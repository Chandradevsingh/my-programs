{
 "cells": [
  {
   "cell_type": "code",
   "execution_count": null,
   "metadata": {},
   "outputs": [],
   "source": [
    "n = 0\n",
    "while n<=5:\n",
    "    print('Value of n is : ', n)\n",
    "    n+=1\n",
    "    if n == 2:\n",
    "        continue\n",
    "    print('hello')"
   ]
  },
  {
   "attachments": {},
   "cell_type": "markdown",
   "metadata": {},
   "source": [
    "Simple Projects on Loops"
   ]
  },
  {
   "cell_type": "code",
   "execution_count": null,
   "metadata": {},
   "outputs": [],
   "source": []
  },
  {
   "cell_type": "code",
   "execution_count": null,
   "metadata": {},
   "outputs": [],
   "source": [
    "print(\"Enter number: \")\n",
    "number = int(input())\n",
    "\n",
    "number_entered = number\n",
    "\n",
    "fac = 1\n",
    "\n",
    "if number == 0:\n",
    "    result = 1\n",
    "else:\n",
    "    while number >= 1:\n",
    "        fac = fac * number\n",
    "        number = number-1\n",
    "    result=fac\n",
    "\n",
    "print('Factorial of {} is {}'.format(number_entered, result))"
   ]
  },
  {
   "attachments": {},
   "cell_type": "markdown",
   "metadata": {},
   "source": [
    "Write a program to generate Fibonacci number :"
   ]
  },
  {
   "cell_type": "code",
   "execution_count": null,
   "metadata": {},
   "outputs": [],
   "source": [
    "count = int(input(\"How many Fibonacci numbers would you like to generate? \"))\n",
    "\n",
    "i = 1\n",
    "\n",
    "if count == 0:\n",
    "    fib = []\n",
    "elif count == 1:\n",
    "    fib = [1]\n",
    "elif count == 2:\n",
    "    fib = [1,1]\n",
    "elif count > 2:\n",
    "    fib = [1,1]\n",
    "    while i < (count-1):\n",
    "        fib.append(fib[i] + fib[i-1])\n",
    "        i+=1\n",
    "\n",
    "#print the series\n",
    "print(fib)"
   ]
  },
  {
   "cell_type": "code",
   "execution_count": null,
   "metadata": {},
   "outputs": [],
   "source": [
    "input_str = input(\"Enter array dimention (m, n i.e. 3, 5) : \")\n",
    "print(input_str)\n",
    "\n",
    "dimensions = [int(x) for x in input_str.split(',')]\n",
    "rowNum = dimensions[0]\n",
    "colNum = dimensions[1]\n",
    "\n",
    "multilist = [[0 for col in range(colNum)] for row in range(rowNum)]\n",
    "\n",
    "for row in range(rowNum):\n",
    "    for col in range(colNum):\n",
    "        multilist[row][col] = row*col\n",
    "\n",
    "print(multilist)"
   ]
  },
  {
   "attachments": {},
   "cell_type": "markdown",
   "metadata": {},
   "source": [
    "Definite Iterations - For Loops"
   ]
  },
  {
   "cell_type": "code",
   "execution_count": null,
   "metadata": {},
   "outputs": [],
   "source": [
    "a = ['first', 'second', 'third', 'fourth', 'fifth']\n",
    "iter_a = iter(a)\n",
    "iter_a"
   ]
  },
  {
   "cell_type": "code",
   "execution_count": null,
   "metadata": {},
   "outputs": [],
   "source": [
    "a = ('first', 'second', 'third', 'fourth', 'fifth')\n",
    "iter_a = iter(a)\n",
    "iter_a"
   ]
  },
  {
   "cell_type": "code",
   "execution_count": null,
   "metadata": {},
   "outputs": [],
   "source": [
    "a = {'first', 'second', 'third', 'fourth', 'fifth'}\n",
    "iter_a = iter(a)\n",
    "iter_a"
   ]
  },
  {
   "cell_type": "code",
   "execution_count": null,
   "metadata": {},
   "outputs": [],
   "source": [
    "a = {'first': 1, 'second' : 2, 'third' : 3, 'fourth' : 4, 'fifth' : 5}\n",
    "iter_a = iter(a)\n",
    "iter_a"
   ]
  },
  {
   "cell_type": "code",
   "execution_count": null,
   "metadata": {},
   "outputs": [],
   "source": [
    "a = ['first', 'second', 'third', 'fourth', 'fifth']\n",
    "iter_a = iter(a)\n",
    "iter_a"
   ]
  },
  {
   "cell_type": "code",
   "execution_count": null,
   "metadata": {},
   "outputs": [],
   "source": [
    "next(iter_a)"
   ]
  },
  {
   "attachments": {},
   "cell_type": "markdown",
   "metadata": {},
   "source": [
    "#If an object is an iterable, it can be passed to the built-in python function iter(), which returns something called iterator.\n",
    "\n",
    "In python, collections of objects like Dictionaries, tuples, lists, sets etc are the example of iterables.\n",
    "\n",
    "#An iterator is essentially a value producer that yields successive values from its associative object. The built-in function next() is used to obtain the next value from an iterator."
   ]
  },
  {
   "cell_type": "code",
   "execution_count": null,
   "metadata": {},
   "outputs": [],
   "source": [
    "a = ['one', 'two', 'three', 'four', 'five']\n",
    "for x in a:\n",
    "    print(x)"
   ]
  },
  {
   "attachments": {},
   "cell_type": "markdown",
   "metadata": {},
   "source": [
    "on its own, like uh this for loop, knows okay, now, once i have exhausted all of the objects within my iterator i can stop doing this for loop, i can move on with the rest of the code. Alright think of it as three step process. uh a for loop in python. First step it calls an iter() function to obtain an ietrator. Secondly, it calls the next function repeatedly in each iteration. Allright, to keep getting the next item from the iterator. Lastly, terminates the loop when next raises the StopIteration error. "
   ]
  },
  {
   "attachments": {},
   "cell_type": "markdown",
   "metadata": {},
   "source": [
    "Now, I'm gonna speak about in specific, i'm going to speak about this uh, something called range function.\n",
    "Range is also a type of iterator."
   ]
  },
  {
   "cell_type": "code",
   "execution_count": null,
   "metadata": {},
   "outputs": [],
   "source": [
    "a = {'first': 1, 'second' : 2, 'third' : 3, 'fourth' : 4, 'fifth' : 5}\n",
    "iter_a = iter(a.values())\n",
    "iter_a"
   ]
  },
  {
   "cell_type": "code",
   "execution_count": null,
   "metadata": {},
   "outputs": [],
   "source": [
    "for i in iter_a:\n",
    "    print(i)"
   ]
  },
  {
   "attachments": {},
   "cell_type": "markdown",
   "metadata": {},
   "source": [
    "File Handling in Python"
   ]
  },
  {
   "attachments": {},
   "cell_type": "markdown",
   "metadata": {},
   "source": [
    "In a large software application where they process a large number of data. then we cannot expect those data to be stored in a variable.\n",
    "\n",
    "As files are written in data. are stored permanently and using python we will handle these files in our applications."
   ]
  },
  {
   "attachments": {},
   "cell_type": "markdown",
   "metadata": {},
   "source": [
    "File handling is basically needed because so most of the times we are handling large and different types of data in python. \n",
    "Files Types in Python :\n",
    "    1. Binary Files in Python : Most of the files that we see in our computer system are called binary files.\n",
    "        a. Document Files : .pdf, .doc, .xls etc.\n",
    "        b. Image Files : .png, .jpg, .gif, .bmp etc.\n",
    "        c. Video Files : .mp4, .3gp, .mkv, .avi etc.\n",
    "        d. Audio Files : .mp3, .wav, .mka, .aac etc.\n",
    "        e. Database Files : .mdb, .accde, .frm, .sqlite etc.\n",
    "        f. Archive Files : .zip, .rar, .iso, .7z etc.\n",
    "        g. Executable Files : .exe, .dll, .class etc.\n",
    "\n",
    "    All Binary files follow a specific format. We can open some binary files in the normal text editor but we can't read the content present inside the file. That's bacause all the binary files will be encoded in the binary format.\n",
    "    for handling such binary files we need a specific type of software to open it.\n",
    "    2. Text Files in Python : Text files don't have any specific encoding and it can be opened in normal text editor itself. \n",
    "        a. Web standards : html, XML, CSS, JSON etc.\n",
    "        b. Source code : c, app, js, py, java etc.\n",
    "        c. Documents : txt, tex, RTF etc.\n",
    "        d. Tabular Data : csv, tsv etc.\n",
    "        e. Configuration : ini, cfg, reg etc.\n",
    "\n",
    "Python File Handling Operations : \n",
    "    a. Open\n",
    "    b. Read\n",
    "    c. Write\n",
    "    d. Close\n",
    "\n",
    "Other operations include :\n",
    "    a. Rename\n",
    "    b. Delete\n",
    "\n",
    "Create an Open a File :\n",
    "Syntax : \n",
    "    file_object = open(file_name, 'mode')\n",
    "\n",
    "The mode in the open file syntax will tell python as what operation we want to do on a file.\n",
    "\n",
    "For text file :\n",
    "    'r' : read mode\n",
    "    'w' : write mode\n",
    "    'a' : append mode\n",
    "    'r+' : Read or Write mode\n",
    "    'a+' : Append or Read mode\n",
    "\n",
    "For binary Files :\n",
    "'wb' - Open a file for write only mode in the binary format.\n",
    "'rb' - Open a file for read only mode in the binary format.\n",
    "'ab' - Open a file for appending only mode in the binary format.\n",
    "'rb+' - Open a file for read and write only mode in the binary format.\n",
    "'ab+' - Open a file for appending and read-only mode in the binary format.\n",
    "\n",
    "There are three ways in which we can read the files in python.\n",
    "    read([n])\n",
    "    readline([n])\n",
    "    readlines([n])\n",
    "\n",
    "Here n is the number of bytes to be read."
   ]
  },
  {
   "attachments": {},
   "cell_type": "markdown",
   "metadata": {},
   "source": [
    "Our code is going to check whether this number entered is an even number or odd. so as you can see there are two sets of checks that we are we're going to do in this code. the first check is going to be whether the number that is entered is between 1 and 20 or not. and if it is not we have to say it's an envalid number. But if it's entered 1 and 20. we have to move on to further checks which is whether it is even or odd number. So let's see how we do that so in this piece of code what we start with is a print statement saying please enter a number between 1 and 20. Then we add a input command. This input command will open a box where we can enter whatever number we want to enter."
   ]
  },
  {
   "attachments": {},
   "cell_type": "markdown",
   "metadata": {},
   "source": [
    "OOP In Python"
   ]
  },
  {
   "attachments": {},
   "cell_type": "markdown",
   "metadata": {},
   "source": [
    "Object oriented programming is all about creating objects. Object is a group of interrelated group of variables and functions. Variables can be referred to as the properties of objects whereas the functions can be referred to as the behaviour of an object so if we were to treat say for example a car an object. Its properties would be its color, its model its price and its brand. Whereas its behaviour or functions for that matter would be accelerating, gear change, breaking, similarly if i gave you an example of a dog as an object. We could consider the properties of the dog as its weight, or its name, its breed its color whereas its functions could be say barking, playing, eating or walking etc. Objects provide a better and clear structure for a program lets move on to what is a class and its instance. Class is a blueprint or a template of certain functions and entities. Whereas an instance is a particular realization of a class. Classes are used to creat a user-defined data structures and define certain functions called methods within the class. When we are speaking of classes and instances, classes don't contain any real data. They are just merely templates. Instances on the other hand contain real data. To think of an example of the diffrence between a class and an instance. Think of a class like a empty form or a questionnaire. Now an empty form of a questionnaire does not have any information but it does have a template to it. It tells you to fill in certain information and based on who is filling in the information that information or the data on a particular form will be different. So an instance is like a filled out form with its own unique set of information. That is one way of treating or understanding what is a class and an instance. For our first example on classes i will be taking you through a class where i've defined based on the circle object. This class is going to define basically information about your general circle such as its radius and its area. So you can see here a bunch of def keywords followed by something that you might not be familiar with and i will try to get you through this. Self tells python that any of the methods that we are invoking in this class or the instance of this class has to refer to attributes and variables within that instance of that class. So if i'm going to use get_area() function i'm going to get values and attribute values and variable values based on only the current instance. "
   ]
  },
  {
   "attachments": {},
   "cell_type": "markdown",
   "metadata": {},
   "source": [
    "Method Overloading & Method Overriding :\n",
    "\n",
    "Now when, operator overloading required well anytime you want an operator to perform a different function for you and your custom objects, you would basically do operator overloading. "
   ]
  },
  {
   "attachments": {},
   "cell_type": "markdown",
   "metadata": {},
   "source": [
    "Functions in Python"
   ]
  },
  {
   "attachments": {},
   "cell_type": "markdown",
   "metadata": {},
   "source": [
    "A function is a group of related statements that perform a specific task. Functions help break our program into smaller and modular chunks(pieces of code). It's very good and very convenient to make our code organized and manageable. Furthermore, it avoids repetition and makes the code reusable. "
   ]
  },
  {
   "cell_type": "code",
   "execution_count": null,
   "metadata": {},
   "outputs": [],
   "source": [
    "def func_name():\n",
    "    \"\"\"This is a docstring\"\"\"\n",
    "    print(\"Hello\")\n"
   ]
  },
  {
   "cell_type": "code",
   "execution_count": null,
   "metadata": {},
   "outputs": [],
   "source": [
    "func_name.__doc__"
   ]
  },
  {
   "attachments": {},
   "cell_type": "markdown",
   "metadata": {},
   "source": [
    "Function Arguments in Python :\n",
    "    1. Default Arguments\n",
    "    2. Required Arguments\n",
    "    3. Keyword Arguments\n",
    "    4. Variable number of Arguments"
   ]
  },
  {
   "attachments": {},
   "cell_type": "markdown",
   "metadata": {},
   "source": [
    "Exceptions in Python :"
   ]
  },
  {
   "attachments": {},
   "cell_type": "markdown",
   "metadata": {},
   "source": [
    "Python Iterators : \n",
    "        An Iterator is an object that contains a countable number of values.\n",
    "        An Iterator is an object that can be iterated upon, meaning that you can traverse through all the values.\n",
    "        Technically, in Python, an iterator is an object which implements the iterator protocol, which consists of methods iter() and next(). "
   ]
  },
  {
   "cell_type": "markdown",
   "metadata": {},
   "source": [
    "import os\n",
    "print(dir(os)) - lists all the functions in the current directory.\n",
    "print(os.getcwd()) - lists the current directory.\n",
    "print(os.listdir()) - lists all the files in the current directory."
   ]
  },
  {
   "cell_type": "code",
   "execution_count": null,
   "metadata": {},
   "outputs": [],
   "source": []
  },
  {
   "attachments": {},
   "cell_type": "markdown",
   "metadata": {},
   "source": [
    "Regular Expression : \n",
    "A regular expression is a sequence of characters that defines a search pattern. For example.\n",
    "^P.....N$\n",
    "The above code defines a RegEx pattern.\n",
    "The pattern is: any 7 letter string starting with P and ending with N.\n",
    "A pattern defined using RegEx can be used to match against a string.\n"
   ]
  },
  {
   "attachments": {},
   "cell_type": "markdown",
   "metadata": {},
   "source": [
    "class Item:\n",
    "    def __init__(self, name: str, price: float, quantity=0):\n",
    "        #Run validations to the received arguments(But there is a great way to work this aroud. Now assert is a statement that is used to check if there is a match between what is happening to your expectations. Once we have this. I can actually go ahead and run our program. Now you can see the fact that we see here, assertion error is quite a general exception that doesn't mean anything. Now what is so beautiful with assert you can add your own exception messages right near of it as a second argument. So let's go up top here and go back to those two lines. So the first argument that is passed to the statement is the statement that we'd like to check. Now I should delete this, then here for that, and now it's perfect. So now we understand that using the assert statement could allow us to validate the arguments that we receive. And also it allows us to catch up the bugs as soon as possible. Before going forward with the rest of the actions. thatwe'd like to take within this program. So let me change those back to valid values like that. That is perfect. Alright until this point, we learned about how to work with constructor. And we also learned about how to assign different attributes to instances that we are going to be unique per instance, which means that you can go ahead and create as much as instances as you want. And you have the control to pass whatever values you would like to for the name, price and quantity. Now consider a situation that you'll want to make use of an attribute that is going to be global. or across all the instances. Now a good candidate, for example of this, could be a situation that you will want to apply a sale on your shop. So I will try to access to the reference of the class itself that will look like following.)\n",
    "        assert price>=0, f\"Price{price} is not greater than or equal to zero!\"\n",
    "        assert quantity>=0, f\"Quantity{quantity} is not greater than or equal to zero!\"\n",
    "        #Assign to self object\n",
    "        self.name = name\n",
    "        self.price = price\n",
    "        self.quantity = quantity\n",
    "    def calculate_total_price(self):\n",
    "        return self.price*self.quantity\n",
    "\n",
    "Item1 = Item(\"Phone\", 100, 1)\n",
    "Item2 = Item(\"Laptop\", 1000, 3)\n",
    "\n",
    "print(Item.__dict__)\n",
    "print(Item1.__dict__)\n",
    "print(Item2.__dict__)\n",
    "#print(Item1.calculate_total_price())\n",
    "#print(Item2.calculate_total_price())"
   ]
  },
  {
   "cell_type": "code",
   "execution_count": null,
   "metadata": {},
   "outputs": [],
   "source": []
  }
 ],
 "metadata": {
  "kernelspec": {
   "display_name": "Python 3",
   "language": "python",
   "name": "python3"
  },
  "language_info": {
   "codemirror_mode": {
    "name": "ipython",
    "version": 3
   },
   "file_extension": ".py",
   "mimetype": "text/x-python",
   "name": "python",
   "nbconvert_exporter": "python",
   "pygments_lexer": "ipython3",
   "version": "3.11.2"
  },
  "orig_nbformat": 4,
  "vscode": {
   "interpreter": {
    "hash": "fe28ae7d9c9bf9acefcd9b92be1eeb968446cc5f160dc4dd0306016ad4b39d5b"
   }
  }
 },
 "nbformat": 4,
 "nbformat_minor": 2
}
