{
 "cells": [
  {
   "attachments": {},
   "cell_type": "markdown",
   "metadata": {},
   "source": [
    "> # Regular Expression :\n",
    "                A regular expression (RegEx) is a sequence of characters that defines a search pattern.\n",
    "                For Example : \n",
    "                        ^P.....N$\n",
    "                        The above code defines a regular expression.\n",
    "                        The pattern is : any 7 letter string starting with P and ending with N.\n",
    "                        A pattern defined using RegEx can be used to match against a string."
   ]
  },
  {
   "cell_type": "code",
   "execution_count": 1,
   "metadata": {},
   "outputs": [
    {
     "name": "stdout",
     "output_type": "stream",
     "text": [
      "Search Successful!\n"
     ]
    }
   ],
   "source": [
    "import re\n",
    "pattern = '^a...s$'\n",
    "test_string = 'abyss'\n",
    "result = re.match(pattern, test_string)\n",
    "if result:\n",
    "    print(\"Search Successful!\")\n",
    "else:\n",
    "    print(\"search Unsuccessful!\")"
   ]
  },
  {
   "attachments": {},
   "cell_type": "markdown",
   "metadata": {},
   "source": [
    "> # Specify pattern using RegEx\n",
    "* To specify regular expressions, metacharacters are used.\n",
    "* In the exapmple above. ^ and $ are meta characters."
   ]
  },
  {
   "attachments": {},
   "cell_type": "markdown",
   "metadata": {},
   "source": [
    "> # Metacharacters\n",
    "* Metacharacters are characters that are interpreted in a special way by the RegEx Engine.\n",
    "* Here is a list of metacharacters:\n",
    "[].^$*+?{}()\\|"
   ]
  },
  {
   "attachments": {},
   "cell_type": "markdown",
   "metadata": {},
   "source": [
    "<pre>[] - Square Brackets\n",
    "Square brackets specifies a set of characters you wish to match.\n",
    ". - Period\n",
    "Period matches any single character (except newline \"\\n\").\n",
    "^ - Caret\n",
    "The caret symbol is used to check if a string starts with a certain character.\n",
    "$ - Dollar \n",
    "The dollar symbol is used to check if a string ends with a certain character.\n",
    "* - star\n",
    "The star symbol * matches zero or more occurences of the pattern left to it.\n",
    "+ - Plus\n",
    "The plus symbol matches one or more occurences of the pattern left to it.\n",
    "? - Question Mark\n",
    "The question mark symbol matches one or more occurences of the pattern left to it.\n",
    "{} - Consider this code: {n,m} This means at least n and at most m repetitions of the pattern left to it.\n",
    "{m} - Matches exactly m repetitions of the preceding regex.\n",
    "| - Alternation\n",
    "Vertical bar | is used for alternation (or operator).\n",
    "() - Group\n",
    "Parenthesis is used to group sub-patterns.\n",
    "For example : (a|b|c)xz match any string that matches either a or b or c followed by xz.<pre>"
   ]
  },
  {
   "attachments": {},
   "cell_type": "markdown",
   "metadata": {},
   "source": [
    "> # Serialization - Object Serialization"
   ]
  },
  {
   "attachments": {},
   "cell_type": "markdown",
   "metadata": {},
   "source": [
    "* Object serialization is the process of converting state of an object into byte stream.\n",
    "* This byte stream can further be stored in any file-like object such as disk file or memory stream.\n",
    "* It can be transmitted via sockets etc.\n",
    "* Deserialization is process of reconstructing the object from the byte stream.\n",
    "* Python refers to serialization and deserialization by terms pickling and unpickling respectively.\n",
    "* The 'pickle' module bundled with python's standard library defines functions for\n",
    "    * serialization (dump() and dumps()) and\n",
    "    * deserialization (load() and loads())\n",
    "    The data format of pickle module is very python specific. Hence, programs not written in python may not be able to deserialize the encoded(pickled) data properly.\n",
    "    * In fact it is not considered to be secure to unpickle data from unauthenticated source.\n"
   ]
  },
  {
   "cell_type": "code",
   "execution_count": 2,
   "metadata": {},
   "outputs": [],
   "source": [
    "import pickle\n",
    "f = open(\"Software Development.txt\", \"wb\")\n",
    "dict = {\"name\":\"Rajeev\", \"age\":23, \"Gender\":\"Male\", \"marks\":75}\n",
    "pickle.dump(dict, f)\n",
    "f.close()"
   ]
  },
  {
   "cell_type": "code",
   "execution_count": 3,
   "metadata": {},
   "outputs": [
    {
     "name": "stdout",
     "output_type": "stream",
     "text": [
      "{'name': 'Rajeev', 'age': 23, 'Gender': 'Male', 'marks': 75}\n"
     ]
    }
   ],
   "source": [
    "import pickle\n",
    "f = open(\"Software Development.txt\", \"rb\")\n",
    "d = pickle.load(f)\n",
    "print(d)\n",
    "f.close()"
   ]
  },
  {
   "attachments": {},
   "cell_type": "markdown",
   "metadata": {},
   "source": [
    "> # Python Closures"
   ]
  },
  {
   "attachments": {},
   "cell_type": "markdown",
   "metadata": {},
   "source": [
    "Before seeing what a closure is, we have to first understand what are nested functions and non-local variables.\n",
    "> Nested Functions in Python :\n",
    "* A Function which is defined inside another function is known as nested function.\n",
    "* Nested functions are able to access variables of the enclosing scope."
   ]
  },
  {
   "cell_type": "code",
   "execution_count": 4,
   "metadata": {},
   "outputs": [],
   "source": [
    "def outerFunction(text):\n",
    "    text=text\n",
    "    def innerFunction():\n",
    "        print(text)\n",
    "\n",
    "    innerFunction()"
   ]
  },
  {
   "cell_type": "code",
   "execution_count": 5,
   "metadata": {},
   "outputs": [
    {
     "name": "stdout",
     "output_type": "stream",
     "text": [
      "Hey!\n"
     ]
    }
   ],
   "source": [
    "outerFunction('Hey!')"
   ]
  },
  {
   "attachments": {},
   "cell_type": "markdown",
   "metadata": {},
   "source": [
    "* innerFunction() can easily be accessed inside the outerFunction body but not outside of its body.\n",
    "* Hence, here, innerFunction() is treated as nested Function which uses text as non-local variable."
   ]
  },
  {
   "attachments": {},
   "cell_type": "markdown",
   "metadata": {},
   "source": [
    "Closures :\n",
    "        A closure is a function object that remembers values in enclosing scopes even if they are not present in memory.\n",
    "        It is a record that stores a function together with an environment a mapping associating each free variable\n",
    "        of the function. (Variables that are used locally, but defined in an enclosing scope) with the value or reference to which the name was bound when the closure was created.\n",
    "        A closure - unlike a plain function - allows the function to access those captured variables through the closure's copies of their values or references, even when the function is invoked outside their scope."
   ]
  },
  {
   "cell_type": "code",
   "execution_count": 6,
   "metadata": {},
   "outputs": [],
   "source": [
    "def outerFunction(text):\n",
    "    text = text\n",
    "    def innerFunction():\n",
    "        print(text)\n",
    "    #note we are returning function\n",
    "    #Without parenthesis\n",
    "    return innerFunction\n",
    "myFunction = outerFunction('Hey!')"
   ]
  },
  {
   "cell_type": "code",
   "execution_count": 7,
   "metadata": {},
   "outputs": [
    {
     "name": "stdout",
     "output_type": "stream",
     "text": [
      "Hey!\n"
     ]
    }
   ],
   "source": [
    "myFunction()"
   ]
  },
  {
   "cell_type": "code",
   "execution_count": 8,
   "metadata": {},
   "outputs": [
    {
     "name": "stdout",
     "output_type": "stream",
     "text": [
      "Hey!\n"
     ]
    }
   ],
   "source": [
    "myFunction()"
   ]
  },
  {
   "attachments": {},
   "cell_type": "markdown",
   "metadata": {},
   "source": [
    "> Decorators\n",
    "In python, functions are first class objects,\n",
    "which means that\n",
    "* Functions \n",
    "    * Functions are objects;\n",
    "    * They can be referenced to,\n",
    "    * passed to a variable and\n",
    "    * returned from other function as well\n",
    "    * Functions can be defined inside another function and can also be passed as argument to another function.\n",
    "    * Decorators allow programmers to modify the behaviour of function or class.\n",
    "    * Decorators allow us to wrap another function in order to extend the behaviour of wrapped function, without permanently modifying it.\n",
    "    * Any generic functionality you can \"tack on\" to an existing class or function's behaviour makes a great\n",
    "    use case for decoration."
   ]
  },
  {
   "cell_type": "code",
   "execution_count": 9,
   "metadata": {},
   "outputs": [
    {
     "data": {
      "text/plain": [
       "11"
      ]
     },
     "execution_count": 9,
     "metadata": {},
     "output_type": "execute_result"
    }
   ],
   "source": [
    "def success(x):\n",
    "    return x + 1\n",
    "success(10)"
   ]
  },
  {
   "cell_type": "code",
   "execution_count": 10,
   "metadata": {},
   "outputs": [
    {
     "data": {
      "text/plain": [
       "21"
      ]
     },
     "execution_count": 10,
     "metadata": {},
     "output_type": "execute_result"
    }
   ],
   "source": [
    "successor = success\n",
    "successor(20)"
   ]
  },
  {
   "cell_type": "code",
   "execution_count": 11,
   "metadata": {},
   "outputs": [
    {
     "data": {
      "text/plain": [
       "11"
      ]
     },
     "execution_count": 11,
     "metadata": {},
     "output_type": "execute_result"
    }
   ],
   "source": [
    "del success\n",
    "successor(10)"
   ]
  },
  {
   "cell_type": "code",
   "execution_count": 12,
   "metadata": {},
   "outputs": [],
   "source": [
    "def add():\n",
    "    print(\"add\")\n",
    "    def add1():\n",
    "        print(\"add1\")\n",
    "    add1()"
   ]
  },
  {
   "cell_type": "code",
   "execution_count": 13,
   "metadata": {},
   "outputs": [
    {
     "name": "stdout",
     "output_type": "stream",
     "text": [
      "add\n",
      "add1\n"
     ]
    }
   ],
   "source": [
    "add()"
   ]
  },
  {
   "cell_type": "code",
   "execution_count": 14,
   "metadata": {},
   "outputs": [],
   "source": [
    "def temperature(t):\n",
    "    def celsius2fahrenheit(x):\n",
    "        return 9*x/5 + 32\n",
    "    \n",
    "    result = \"It's \" + str(celsius2fahrenheit(t)) + \" degrees!\"\n",
    "    return result"
   ]
  },
  {
   "cell_type": "code",
   "execution_count": 15,
   "metadata": {},
   "outputs": [
    {
     "name": "stdout",
     "output_type": "stream",
     "text": [
      "It's 68.0 degrees!\n"
     ]
    }
   ],
   "source": [
    "print(temperature(20))"
   ]
  },
  {
   "cell_type": "code",
   "execution_count": 16,
   "metadata": {},
   "outputs": [],
   "source": [
    "def factorial(n):\n",
    "    \"\"\" calculates the factorial of n,\n",
    "       n should be an integer and n>=0 \"\"\"\n",
    "    if n==0:\n",
    "        return 1\n",
    "    else:\n",
    "        return n*factorial(n-1)"
   ]
  },
  {
   "cell_type": "code",
   "execution_count": 17,
   "metadata": {},
   "outputs": [
    {
     "data": {
      "text/plain": [
       "120"
      ]
     },
     "execution_count": 17,
     "metadata": {},
     "output_type": "execute_result"
    }
   ],
   "source": [
    "factorial(5)"
   ]
  },
  {
   "cell_type": "code",
   "execution_count": 18,
   "metadata": {},
   "outputs": [],
   "source": [
    "def factorial(n):\n",
    "    \"\"\" calculates the factorial of n,\n",
    "       n should be an integer and n>=0 \"\"\"\n",
    "    if type(n) == int and n>=0:\n",
    "        if n==0:\n",
    "            return 1\n",
    "        else:\n",
    "            return n*factorial(n-1)\n",
    "    else:\n",
    "        raise TypeError(\"n has to be a positive integer or zero\")"
   ]
  },
  {
   "cell_type": "code",
   "execution_count": 19,
   "metadata": {},
   "outputs": [
    {
     "data": {
      "text/plain": [
       "362880"
      ]
     },
     "execution_count": 19,
     "metadata": {},
     "output_type": "execute_result"
    }
   ],
   "source": [
    "factorial(9)"
   ]
  },
  {
   "cell_type": "code",
   "execution_count": 20,
   "metadata": {},
   "outputs": [
    {
     "ename": "TypeError",
     "evalue": "n has to be a positive integer or zero",
     "output_type": "error",
     "traceback": [
      "\u001b[1;31m---------------------------------------------------------------------------\u001b[0m",
      "\u001b[1;31mTypeError\u001b[0m                                 Traceback (most recent call last)",
      "Cell \u001b[1;32mIn[20], line 1\u001b[0m\n\u001b[1;32m----> 1\u001b[0m factorial(\u001b[39m-\u001b[39;49m\u001b[39m5\u001b[39;49m)\n",
      "Cell \u001b[1;32mIn[18], line 10\u001b[0m, in \u001b[0;36mfactorial\u001b[1;34m(n)\u001b[0m\n\u001b[0;32m      8\u001b[0m         \u001b[39mreturn\u001b[39;00m n\u001b[39m*\u001b[39mfactorial(n\u001b[39m-\u001b[39m\u001b[39m1\u001b[39m)\n\u001b[0;32m      9\u001b[0m \u001b[39melse\u001b[39;00m:\n\u001b[1;32m---> 10\u001b[0m     \u001b[39mraise\u001b[39;00m \u001b[39mTypeError\u001b[39;00m(\u001b[39m\"\u001b[39m\u001b[39mn has to be a positive integer or zero\u001b[39m\u001b[39m\"\u001b[39m)\n",
      "\u001b[1;31mTypeError\u001b[0m: n has to be a positive integer or zero"
     ]
    }
   ],
   "source": [
    "factorial(-5)"
   ]
  },
  {
   "cell_type": "code",
   "execution_count": null,
   "metadata": {},
   "outputs": [],
   "source": [
    "def factorial(n):\n",
    "    \"\"\"calculates the factorial of n,\n",
    "       n should be an integer and n >=0 \"\"\"\n",
    "    def inner_factorial(n):\n",
    "        if n==0:\n",
    "            print(\"returning...{}\".format(n))\n",
    "            return 1\n",
    "        else:\n",
    "            ret_value = n * inner_factorial(n-1)\n",
    "            print(\"returning...{}\".format(ret_value))\n",
    "\n",
    "            return ret_value\n",
    "    if type(n) == int and n >= 0:\n",
    "        return inner_factorial(n)\n",
    "    else:\n",
    "        raise TypeError(\"n should be a positive int or 0\")"
   ]
  },
  {
   "cell_type": "code",
   "execution_count": null,
   "metadata": {},
   "outputs": [],
   "source": [
    "factorial(3)"
   ]
  },
  {
   "attachments": {},
   "cell_type": "markdown",
   "metadata": {},
   "source": [
    "> Functions as parameters \n",
    "* Due to the fact that every parameter of a function is a reference to an object and functions are objects as well.\n",
    "we can pass functions - or better \"references to functions\" - as parameters to a function."
   ]
  },
  {
   "attachments": {},
   "cell_type": "markdown",
   "metadata": {},
   "source": [
    "This was basically how we reduce the redundancy in the check part of our function."
   ]
  },
  {
   "cell_type": "code",
   "execution_count": null,
   "metadata": {},
   "outputs": [],
   "source": [
    "def f(x):\n",
    "    def g(y):\n",
    "        return y + x + 3\n",
    "    return g"
   ]
  },
  {
   "cell_type": "code",
   "execution_count": null,
   "metadata": {},
   "outputs": [],
   "source": [
    "f(10)"
   ]
  },
  {
   "cell_type": "code",
   "execution_count": null,
   "metadata": {},
   "outputs": [],
   "source": [
    "nf1 = f(10)\n",
    "nf1"
   ]
  },
  {
   "cell_type": "code",
   "execution_count": null,
   "metadata": {},
   "outputs": [],
   "source": [
    "nf1(20)"
   ]
  },
  {
   "attachments": {},
   "cell_type": "markdown",
   "metadata": {},
   "source": [
    "> P(x) = a.x<sup>2</sup> + b.x + c"
   ]
  },
  {
   "cell_type": "code",
   "execution_count": null,
   "metadata": {},
   "outputs": [],
   "source": [
    "def polynomial_creator(a, b, c):\n",
    "    def polynomial(x):\n",
    "        return a*x**2 + b*x + c\n",
    "    return polynomial"
   ]
  },
  {
   "cell_type": "code",
   "execution_count": null,
   "metadata": {},
   "outputs": [],
   "source": [
    "p1 = polynomial_creator(2, 3, -1)\n",
    "p2 = polynomial_creator(-1, 2, 1)"
   ]
  },
  {
   "cell_type": "code",
   "execution_count": null,
   "metadata": {},
   "outputs": [],
   "source": [
    "p1"
   ]
  },
  {
   "cell_type": "code",
   "execution_count": null,
   "metadata": {},
   "outputs": [],
   "source": [
    "p2"
   ]
  },
  {
   "cell_type": "code",
   "execution_count": null,
   "metadata": {},
   "outputs": [],
   "source": [
    "for x in range(-2, 2, 1):\n",
    "    print(\"{:5d}, {:5d}, {:5d}\".format(x, p1(x), p2(x)))"
   ]
  },
  {
   "cell_type": "code",
   "execution_count": null,
   "metadata": {},
   "outputs": [],
   "source": [
    "def polynomial_creator(*coefficients):\n",
    "    \"\"\"coefficients are in the form a_n,...,a_1,a_0\"\"\"\n",
    "    def polynomial(x):\n",
    "        res = 0\n",
    "        for index, coeff in enumerate(coefficients[::-1]):\n",
    "            res += coeff*x**index\n",
    "        return res\n",
    "    return polynomial\n",
    "\n",
    "p1 = polynomial_creator(4)\n",
    "p2 = polynomial_creator(2, 4)\n",
    "p3 = polynomial_creator(1, 8, -1, 3, 2)\n",
    "p4 = polynomial_creator(-1, 2, 1)"
   ]
  },
  {
   "cell_type": "code",
   "execution_count": null,
   "metadata": {},
   "outputs": [],
   "source": [
    "for x in range(-2, 2, 1):\n",
    "    print(x, p1(x), p2(x), p3(x), p4(x))"
   ]
  },
  {
   "attachments": {},
   "cell_type": "markdown",
   "metadata": {},
   "source": [
    "> Map, filter and reduce\n",
    "* Python provides several functions which enable a functional apprach to programming.\n",
    "* Functional programming is all about expressions.\n",
    "* Some expression oriented functions are :\n",
    "\n",
    "    * map(aFunction, aSequence)\n",
    "    * filter(aFunction, aSequence)\n",
    "    * reduce(aFunction, aSequence)\n",
    "    * lambda\n",
    "    * list comprehension"
   ]
  },
  {
   "attachments": {},
   "cell_type": "markdown",
   "metadata": {},
   "source": [
    "> Map - map(aFunction, aSequence)"
   ]
  },
  {
   "attachments": {},
   "cell_type": "markdown",
   "metadata": {},
   "source": [
    "One of the common things we do with list and other sequences is applying an operation to each item and collect the result.\n",
    "For example, updating all the items in a list can be done easily with a for loop."
   ]
  },
  {
   "cell_type": "code",
   "execution_count": null,
   "metadata": {},
   "outputs": [],
   "source": [
    "items = [1, 2, 3, 4]\n",
    "squared = []\n",
    "for x in items:\n",
    "    squared.append(x**2)"
   ]
  },
  {
   "cell_type": "code",
   "execution_count": null,
   "metadata": {},
   "outputs": [],
   "source": [
    "squared"
   ]
  },
  {
   "cell_type": "code",
   "execution_count": null,
   "metadata": {},
   "outputs": [],
   "source": [
    "def square(x):\n",
    "    return x**2"
   ]
  },
  {
   "cell_type": "code",
   "execution_count": null,
   "metadata": {},
   "outputs": [],
   "source": [
    "map(square, items)"
   ]
  },
  {
   "cell_type": "code",
   "execution_count": null,
   "metadata": {},
   "outputs": [],
   "source": [
    "list(map(square, items))"
   ]
  },
  {
   "cell_type": "code",
   "execution_count": null,
   "metadata": {},
   "outputs": [],
   "source": [
    "for each in map(square, items):\n",
    "    print(each)"
   ]
  },
  {
   "cell_type": "code",
   "execution_count": null,
   "metadata": {},
   "outputs": [],
   "source": [
    "list(map((lambda x: x**2), items))"
   ]
  },
  {
   "cell_type": "code",
   "execution_count": null,
   "metadata": {},
   "outputs": [],
   "source": [
    "import numpy"
   ]
  },
  {
   "cell_type": "code",
   "execution_count": null,
   "metadata": {},
   "outputs": [],
   "source": [
    "def square(x):\n",
    "    return (x**2)\n",
    "def cube(x):\n",
    "    return (x**3)\n",
    "def sqroot(x):\n",
    "    return (numpy.sqrt(x))"
   ]
  },
  {
   "cell_type": "code",
   "execution_count": null,
   "metadata": {},
   "outputs": [],
   "source": [
    "funcs = [square, cube, sqroot]"
   ]
  },
  {
   "cell_type": "code",
   "execution_count": null,
   "metadata": {},
   "outputs": [],
   "source": [
    "for r in range(5):\n",
    "    value = map(lambda x: x(r), funcs)\n",
    "    print(list(value))"
   ]
  },
  {
   "cell_type": "code",
   "execution_count": null,
   "metadata": {},
   "outputs": [],
   "source": [
    "def to_upper_case(s):\n",
    "    return str(s).upper()"
   ]
  },
  {
   "cell_type": "code",
   "execution_count": null,
   "metadata": {},
   "outputs": [],
   "source": [
    "def print_iterator(it):\n",
    "    for x in it:\n",
    "        print(x)\n",
    "\n",
    "    print('')"
   ]
  },
  {
   "cell_type": "code",
   "execution_count": null,
   "metadata": {},
   "outputs": [],
   "source": [
    "list(map(to_upper_case, 'abc'))"
   ]
  },
  {
   "cell_type": "code",
   "execution_count": null,
   "metadata": {},
   "outputs": [],
   "source": [
    "map_iterator = map(to_upper_case, 'abc')"
   ]
  },
  {
   "cell_type": "code",
   "execution_count": null,
   "metadata": {},
   "outputs": [],
   "source": [
    "print(type(map_iterator))\n",
    "print_iterator(map_iterator)"
   ]
  },
  {
   "attachments": {},
   "cell_type": "markdown",
   "metadata": {},
   "source": [
    ">Python map() multiple arguments"
   ]
  },
  {
   "cell_type": "code",
   "execution_count": null,
   "metadata": {},
   "outputs": [],
   "source": [
    "#map() with multiple iterable arguments"
   ]
  },
  {
   "cell_type": "code",
   "execution_count": null,
   "metadata": {},
   "outputs": [],
   "source": [
    "list_numbers = [1, 2, 3, 4]\n",
    "tuple_numbers = (5, 6, 7, 8)\n",
    "map_iterator = map(lambda x, y: x*y, list_numbers, tuple_numbers)\n",
    "print_iterator(map_iterator)"
   ]
  },
  {
   "attachments": {},
   "cell_type": "markdown",
   "metadata": {},
   "source": [
    "> filter(function, Sequence)"
   ]
  },
  {
   "attachments": {},
   "cell_type": "markdown",
   "metadata": {},
   "source": [
    "* function that tests if each element of a sequence true or not.\n",
    "* Sequence: sequence which needs to be filtered. it can be sets, lists, tuples or containers of any iterators."
   ]
  },
  {
   "attachments": {},
   "cell_type": "markdown",
   "metadata": {},
   "source": [
    "* Returns\n",
    "* Reurn an iterator that is already filtered.\n",
    "as the name suggests filter extracts each element in the sequence for which the function returns true."
   ]
  },
  {
   "cell_type": "code",
   "execution_count": null,
   "metadata": {},
   "outputs": [],
   "source": [
    "r = list(range(-5,5))\n",
    "r"
   ]
  },
  {
   "cell_type": "code",
   "execution_count": null,
   "metadata": {},
   "outputs": [],
   "source": [
    "#Extract numbers < 0 from r\n",
    "#filter the values < 0\n",
    "result = []\n",
    "for x in r:\n",
    "    if x < 0:\n",
    "        result.append(x)\n",
    "result"
   ]
  },
  {
   "cell_type": "code",
   "execution_count": null,
   "metadata": {},
   "outputs": [],
   "source": [
    "list(filter((lambda x: x < 0), r))"
   ]
  },
  {
   "cell_type": "code",
   "execution_count": null,
   "metadata": {},
   "outputs": [],
   "source": [
    "#sequence\n",
    "sequence = ['d', 'w', 'a', 'y', 'f', 's']\n",
    "def fun(variable):\n",
    "    letters = ['a', 'e', 'i', 'o', 'u']\n",
    "    if variable in letters:\n",
    "        return True\n",
    "    else:\n",
    "        return False\n",
    "#using filter function\n",
    "filtered = filter(fun, sequence)\n",
    "list(filtered)"
   ]
  },
  {
   "attachments": {},
   "cell_type": "markdown",
   "metadata": {},
   "source": [
    "> Reduce"
   ]
  },
  {
   "attachments": {},
   "cell_type": "markdown",
   "metadata": {},
   "source": [
    "* The reduce is in the functool in the python 3.0.\n",
    "* reduce applies a function of two arguments cumulatively to the elements of an iterable. Optionally starting with an initial argument.\n",
    "* It returns a single result."
   ]
  },
  {
   "cell_type": "code",
   "execution_count": null,
   "metadata": {},
   "outputs": [],
   "source": [
    "from functools import reduce"
   ]
  },
  {
   "cell_type": "code",
   "execution_count": null,
   "metadata": {},
   "outputs": [],
   "source": [
    "#sum use case\n",
    "numbers = [1, 2, 3, 4]\n",
    "total = 0\n",
    "for num in numbers:\n",
    "    total += num\n",
    "total"
   ]
  },
  {
   "attachments": {},
   "cell_type": "markdown",
   "metadata": {},
   "source": [
    "The for loop iterates over every value in numbers and accumulates them in total.\n",
    "The final result is the sum of all the values. which in this example is 10. A variable used like total in this example is sometimes called an accumulator.\n",
    "To implement this operation with reduce(), you have several options.\n",
    "* A user-defined function.\n",
    "* A lambda function.\n",
    "* A function called operator.add()."
   ]
  },
  {
   "cell_type": "code",
   "execution_count": null,
   "metadata": {},
   "outputs": [],
   "source": [
    "def my_add(a, b):\n",
    "    return a + b\n",
    "my_add(1, 2)"
   ]
  },
  {
   "cell_type": "code",
   "execution_count": null,
   "metadata": {},
   "outputs": [],
   "source": [
    "numbers = [1, 2, 3, 4]\n",
    "reduce(my_add, numbers)"
   ]
  },
  {
   "attachments": {},
   "cell_type": "markdown",
   "metadata": {},
   "source": [
    "The call to reduce applies my_add() to the items in numbers to compute their cumulative sum. The final result is 10, as expected.\n",
    "Now, let's use the lambda function to do the same topic just do the same task."
   ]
  },
  {
   "attachments": {},
   "cell_type": "markdown",
   "metadata": {},
   "source": [
    "> Using lambda function"
   ]
  },
  {
   "cell_type": "code",
   "execution_count": null,
   "metadata": {},
   "outputs": [],
   "source": [
    "reduce((lambda x, y: x + y), [1, 2, 3, 4])"
   ]
  },
  {
   "attachments": {},
   "cell_type": "markdown",
   "metadata": {},
   "source": [
    "> Python Project - OOP in Python"
   ]
  },
  {
   "attachments": {},
   "cell_type": "markdown",
   "metadata": {},
   "source": [
    ">Stack implementation"
   ]
  },
  {
   "cell_type": "code",
   "execution_count": null,
   "metadata": {},
   "outputs": [],
   "source": [
    "#Define a stack\n",
    "s = []\n",
    "s.append('eat')\n",
    "s.append('sleep')\n",
    "s.append('code')"
   ]
  },
  {
   "cell_type": "code",
   "execution_count": null,
   "metadata": {},
   "outputs": [],
   "source": [
    "#print the stack\n",
    "s"
   ]
  },
  {
   "cell_type": "code",
   "execution_count": null,
   "metadata": {},
   "outputs": [],
   "source": [
    "s.pop()"
   ]
  },
  {
   "cell_type": "code",
   "execution_count": null,
   "metadata": {},
   "outputs": [],
   "source": [
    "s.pop()"
   ]
  },
  {
   "cell_type": "code",
   "execution_count": null,
   "metadata": {},
   "outputs": [],
   "source": [
    "s.pop()"
   ]
  },
  {
   "cell_type": "code",
   "execution_count": null,
   "metadata": {},
   "outputs": [],
   "source": [
    "s.pop()"
   ]
  },
  {
   "attachments": {},
   "cell_type": "markdown",
   "metadata": {},
   "source": [
    "> Custom method using classes/objects\n",
    "* The following stack implementation assumes that the end of the list will hold the top element in the stack.\n",
    "* As the stack grows (as push operations occur), new items will be added on the end of the list.\n",
    "* pop operations will manipulate that same end."
   ]
  },
  {
   "cell_type": "code",
   "execution_count": null,
   "metadata": {},
   "outputs": [],
   "source": [
    "#define stack class\n",
    "class StackTopn:\n",
    "    def __init__(self):\n",
    "        self.items = []\n",
    "\n",
    "#for printing the stack contents\n",
    "    def __str__(self):\n",
    "        return ' '.join([str(i) for i in self.items])\n",
    "\n",
    "    def isEmpty(self):\n",
    "        return self.items == []\n",
    "\n",
    "    def push(self, item):\n",
    "        self.items.append(item)\n",
    "\n",
    "    def pop(self):\n",
    "        return self.items.pop()\n",
    "\n",
    "    def peek(self):\n",
    "        return self.items[len(self.items)-1]\n",
    "\n",
    "    def size(self):\n",
    "        return len(self.items)\n",
    "\n",
    "    def display_all_items(self):\n",
    "        return (self.items)"
   ]
  },
  {
   "cell_type": "code",
   "execution_count": null,
   "metadata": {},
   "outputs": [],
   "source": [
    "s = StackTopn()\n",
    "print(s)"
   ]
  },
  {
   "cell_type": "code",
   "execution_count": null,
   "metadata": {},
   "outputs": [],
   "source": [
    "s.isEmpty()"
   ]
  },
  {
   "cell_type": "code",
   "execution_count": null,
   "metadata": {},
   "outputs": [],
   "source": [
    "s.push('First')\n",
    "s.push('Second')\n",
    "s.push('Third')"
   ]
  },
  {
   "cell_type": "code",
   "execution_count": null,
   "metadata": {},
   "outputs": [],
   "source": [
    "print(s)"
   ]
  },
  {
   "cell_type": "code",
   "execution_count": null,
   "metadata": {},
   "outputs": [],
   "source": [
    "print(s.peek())"
   ]
  },
  {
   "cell_type": "code",
   "execution_count": null,
   "metadata": {},
   "outputs": [],
   "source": [
    "myStack = StackTopn()\n",
    "input_string = 'banglore'\n",
    "for ch in input_string:\n",
    "    myStack.push(ch)\n",
    "\n",
    "#print the stack\n",
    "\n",
    "myStack.display_all_items()"
   ]
  },
  {
   "cell_type": "code",
   "execution_count": null,
   "metadata": {},
   "outputs": [],
   "source": [
    "rev_string = []\n",
    "rev_str = ''\n",
    "\n",
    "while not myStack.isEmpty():\n",
    "    pop_ch = myStack.pop()\n",
    "\n",
    "    rev_string.append(pop_ch)\n",
    "    rev_str = rev_str + pop_ch\n",
    "\n",
    "print(\"Reverse string is : \", rev_string)\n",
    "print(\"Reverse string is : \", rev_str)"
   ]
  }
 ],
 "metadata": {
  "kernelspec": {
   "display_name": "Python 3",
   "language": "python",
   "name": "python3"
  },
  "language_info": {
   "codemirror_mode": {
    "name": "ipython",
    "version": 3
   },
   "file_extension": ".py",
   "mimetype": "text/x-python",
   "name": "python",
   "nbconvert_exporter": "python",
   "pygments_lexer": "ipython3",
   "version": "3.11.2"
  },
  "orig_nbformat": 4,
  "vscode": {
   "interpreter": {
    "hash": "fe28ae7d9c9bf9acefcd9b92be1eeb968446cc5f160dc4dd0306016ad4b39d5b"
   }
  }
 },
 "nbformat": 4,
 "nbformat_minor": 2
}
